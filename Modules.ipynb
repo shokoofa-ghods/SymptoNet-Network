{
  "nbformat": 4,
  "nbformat_minor": 0,
  "metadata": {
    "colab": {
      "provenance": []
    },
    "kernelspec": {
      "name": "python3",
      "display_name": "Python 3"
    },
    "language_info": {
      "name": "python"
    }
  },
  "cells": [
    {
      "cell_type": "markdown",
      "source": [
        "#what is this notebook?\n",
        "In This notebook, we are trynig to find stable modules by using the Louvain community detection algorithm.\n",
        "\n",
        "![image.png](data:image/png;base64,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)"
      ],
      "metadata": {
        "id": "StONZl5LcAeP"
      }
    },
    {
      "cell_type": "markdown",
      "source": [
        "#imports and uplode"
      ],
      "metadata": {
        "id": "kxr_x3ludM8Q"
      }
    },
    {
      "cell_type": "code",
      "source": [
        "! pip install bctpy"
      ],
      "metadata": {
        "colab": {
          "base_uri": "https://localhost:8080/"
        },
        "id": "-QMQ7vQSe6qj",
        "outputId": "a98b2324-ca66-455a-e473-8a31df7bd6b6"
      },
      "execution_count": 9,
      "outputs": [
        {
          "output_type": "stream",
          "name": "stdout",
          "text": [
            "Collecting bctpy\n",
            "  Downloading bctpy-0.6.1-py3-none-any.whl (110 kB)\n",
            "\u001b[?25l     \u001b[90m━━━━━━━━━━━━━━━━━━━━━━━━━━━━━━━━━━━━━━━━\u001b[0m \u001b[32m0.0/110.4 kB\u001b[0m \u001b[31m?\u001b[0m eta \u001b[36m-:--:--\u001b[0m\r\u001b[2K     \u001b[90m━━━━━━━━━━━━━━━━━━━━━━━━━━━━━━━━━━━━━━━━\u001b[0m \u001b[32m110.4/110.4 kB\u001b[0m \u001b[31m3.4 MB/s\u001b[0m eta \u001b[36m0:00:00\u001b[0m\n",
            "\u001b[?25hRequirement already satisfied: numpy in /usr/local/lib/python3.10/dist-packages (from bctpy) (1.25.2)\n",
            "Requirement already satisfied: scipy in /usr/local/lib/python3.10/dist-packages (from bctpy) (1.11.4)\n",
            "Installing collected packages: bctpy\n",
            "Successfully installed bctpy-0.6.1\n"
          ]
        }
      ]
    },
    {
      "cell_type": "code",
      "source": [
        "from google.colab import files\n",
        "import pandas as pd\n",
        "import numpy as np\n",
        "import networkx as nx\n",
        "import matplotlib.pyplot as plt\n",
        "from sklearn.feature_extraction.text import CountVectorizer\n",
        "from sklearn.metrics.pairwise import cosine_similarity\n",
        "from sklearn.metrics.cluster import normalized_mutual_info_score\n",
        "import bct"
      ],
      "metadata": {
        "id": "har_PgffdQOx"
      },
      "execution_count": 10,
      "outputs": []
    },
    {
      "cell_type": "code",
      "source": [
        "# Upload CSV file to the Colab, data is the main dataset.\n",
        "uploaded = files.upload()\n",
        "file_name = list(uploaded.keys())[0]\n",
        "data = pd.read_csv(file_name)"
      ],
      "metadata": {
        "colab": {
          "base_uri": "https://localhost:8080/",
          "height": 73
        },
        "id": "IBH3B5lmdYUe",
        "outputId": "96bc99da-6a85-4da8-a2b4-73a23c8c2457"
      },
      "execution_count": 2,
      "outputs": [
        {
          "output_type": "display_data",
          "data": {
            "text/plain": [
              "<IPython.core.display.HTML object>"
            ],
            "text/html": [
              "\n",
              "     <input type=\"file\" id=\"files-25493d3c-09b0-428f-8ca7-43b075e64e2e\" name=\"files[]\" multiple disabled\n",
              "        style=\"border:none\" />\n",
              "     <output id=\"result-25493d3c-09b0-428f-8ca7-43b075e64e2e\">\n",
              "      Upload widget is only available when the cell has been executed in the\n",
              "      current browser session. Please rerun this cell to enable.\n",
              "      </output>\n",
              "      <script>// Copyright 2017 Google LLC\n",
              "//\n",
              "// Licensed under the Apache License, Version 2.0 (the \"License\");\n",
              "// you may not use this file except in compliance with the License.\n",
              "// You may obtain a copy of the License at\n",
              "//\n",
              "//      http://www.apache.org/licenses/LICENSE-2.0\n",
              "//\n",
              "// Unless required by applicable law or agreed to in writing, software\n",
              "// distributed under the License is distributed on an \"AS IS\" BASIS,\n",
              "// WITHOUT WARRANTIES OR CONDITIONS OF ANY KIND, either express or implied.\n",
              "// See the License for the specific language governing permissions and\n",
              "// limitations under the License.\n",
              "\n",
              "/**\n",
              " * @fileoverview Helpers for google.colab Python module.\n",
              " */\n",
              "(function(scope) {\n",
              "function span(text, styleAttributes = {}) {\n",
              "  const element = document.createElement('span');\n",
              "  element.textContent = text;\n",
              "  for (const key of Object.keys(styleAttributes)) {\n",
              "    element.style[key] = styleAttributes[key];\n",
              "  }\n",
              "  return element;\n",
              "}\n",
              "\n",
              "// Max number of bytes which will be uploaded at a time.\n",
              "const MAX_PAYLOAD_SIZE = 100 * 1024;\n",
              "\n",
              "function _uploadFiles(inputId, outputId) {\n",
              "  const steps = uploadFilesStep(inputId, outputId);\n",
              "  const outputElement = document.getElementById(outputId);\n",
              "  // Cache steps on the outputElement to make it available for the next call\n",
              "  // to uploadFilesContinue from Python.\n",
              "  outputElement.steps = steps;\n",
              "\n",
              "  return _uploadFilesContinue(outputId);\n",
              "}\n",
              "\n",
              "// This is roughly an async generator (not supported in the browser yet),\n",
              "// where there are multiple asynchronous steps and the Python side is going\n",
              "// to poll for completion of each step.\n",
              "// This uses a Promise to block the python side on completion of each step,\n",
              "// then passes the result of the previous step as the input to the next step.\n",
              "function _uploadFilesContinue(outputId) {\n",
              "  const outputElement = document.getElementById(outputId);\n",
              "  const steps = outputElement.steps;\n",
              "\n",
              "  const next = steps.next(outputElement.lastPromiseValue);\n",
              "  return Promise.resolve(next.value.promise).then((value) => {\n",
              "    // Cache the last promise value to make it available to the next\n",
              "    // step of the generator.\n",
              "    outputElement.lastPromiseValue = value;\n",
              "    return next.value.response;\n",
              "  });\n",
              "}\n",
              "\n",
              "/**\n",
              " * Generator function which is called between each async step of the upload\n",
              " * process.\n",
              " * @param {string} inputId Element ID of the input file picker element.\n",
              " * @param {string} outputId Element ID of the output display.\n",
              " * @return {!Iterable<!Object>} Iterable of next steps.\n",
              " */\n",
              "function* uploadFilesStep(inputId, outputId) {\n",
              "  const inputElement = document.getElementById(inputId);\n",
              "  inputElement.disabled = false;\n",
              "\n",
              "  const outputElement = document.getElementById(outputId);\n",
              "  outputElement.innerHTML = '';\n",
              "\n",
              "  const pickedPromise = new Promise((resolve) => {\n",
              "    inputElement.addEventListener('change', (e) => {\n",
              "      resolve(e.target.files);\n",
              "    });\n",
              "  });\n",
              "\n",
              "  const cancel = document.createElement('button');\n",
              "  inputElement.parentElement.appendChild(cancel);\n",
              "  cancel.textContent = 'Cancel upload';\n",
              "  const cancelPromise = new Promise((resolve) => {\n",
              "    cancel.onclick = () => {\n",
              "      resolve(null);\n",
              "    };\n",
              "  });\n",
              "\n",
              "  // Wait for the user to pick the files.\n",
              "  const files = yield {\n",
              "    promise: Promise.race([pickedPromise, cancelPromise]),\n",
              "    response: {\n",
              "      action: 'starting',\n",
              "    }\n",
              "  };\n",
              "\n",
              "  cancel.remove();\n",
              "\n",
              "  // Disable the input element since further picks are not allowed.\n",
              "  inputElement.disabled = true;\n",
              "\n",
              "  if (!files) {\n",
              "    return {\n",
              "      response: {\n",
              "        action: 'complete',\n",
              "      }\n",
              "    };\n",
              "  }\n",
              "\n",
              "  for (const file of files) {\n",
              "    const li = document.createElement('li');\n",
              "    li.append(span(file.name, {fontWeight: 'bold'}));\n",
              "    li.append(span(\n",
              "        `(${file.type || 'n/a'}) - ${file.size} bytes, ` +\n",
              "        `last modified: ${\n",
              "            file.lastModifiedDate ? file.lastModifiedDate.toLocaleDateString() :\n",
              "                                    'n/a'} - `));\n",
              "    const percent = span('0% done');\n",
              "    li.appendChild(percent);\n",
              "\n",
              "    outputElement.appendChild(li);\n",
              "\n",
              "    const fileDataPromise = new Promise((resolve) => {\n",
              "      const reader = new FileReader();\n",
              "      reader.onload = (e) => {\n",
              "        resolve(e.target.result);\n",
              "      };\n",
              "      reader.readAsArrayBuffer(file);\n",
              "    });\n",
              "    // Wait for the data to be ready.\n",
              "    let fileData = yield {\n",
              "      promise: fileDataPromise,\n",
              "      response: {\n",
              "        action: 'continue',\n",
              "      }\n",
              "    };\n",
              "\n",
              "    // Use a chunked sending to avoid message size limits. See b/62115660.\n",
              "    let position = 0;\n",
              "    do {\n",
              "      const length = Math.min(fileData.byteLength - position, MAX_PAYLOAD_SIZE);\n",
              "      const chunk = new Uint8Array(fileData, position, length);\n",
              "      position += length;\n",
              "\n",
              "      const base64 = btoa(String.fromCharCode.apply(null, chunk));\n",
              "      yield {\n",
              "        response: {\n",
              "          action: 'append',\n",
              "          file: file.name,\n",
              "          data: base64,\n",
              "        },\n",
              "      };\n",
              "\n",
              "      let percentDone = fileData.byteLength === 0 ?\n",
              "          100 :\n",
              "          Math.round((position / fileData.byteLength) * 100);\n",
              "      percent.textContent = `${percentDone}% done`;\n",
              "\n",
              "    } while (position < fileData.byteLength);\n",
              "  }\n",
              "\n",
              "  // All done.\n",
              "  yield {\n",
              "    response: {\n",
              "      action: 'complete',\n",
              "    }\n",
              "  };\n",
              "}\n",
              "\n",
              "scope.google = scope.google || {};\n",
              "scope.google.colab = scope.google.colab || {};\n",
              "scope.google.colab._files = {\n",
              "  _uploadFiles,\n",
              "  _uploadFilesContinue,\n",
              "};\n",
              "})(self);\n",
              "</script> "
            ]
          },
          "metadata": {}
        },
        {
          "output_type": "stream",
          "name": "stdout",
          "text": [
            "Saving preprocessed_data.csv to preprocessed_data.csv\n"
          ]
        }
      ]
    },
    {
      "cell_type": "code",
      "source": [
        "uploaded = files.upload()\n",
        "file_name = list(uploaded.keys())[0]\n",
        "modules = pd.read_csv(file_name)"
      ],
      "metadata": {
        "colab": {
          "base_uri": "https://localhost:8080/",
          "height": 73
        },
        "id": "5zRcXUnMpsW5",
        "outputId": "c1eaf591-2416-4e75-cb8d-fa15bc46c4e5"
      },
      "execution_count": 39,
      "outputs": [
        {
          "output_type": "display_data",
          "data": {
            "text/plain": [
              "<IPython.core.display.HTML object>"
            ],
            "text/html": [
              "\n",
              "     <input type=\"file\" id=\"files-bb7d71f8-f32f-4914-a95c-6bd0eec645b0\" name=\"files[]\" multiple disabled\n",
              "        style=\"border:none\" />\n",
              "     <output id=\"result-bb7d71f8-f32f-4914-a95c-6bd0eec645b0\">\n",
              "      Upload widget is only available when the cell has been executed in the\n",
              "      current browser session. Please rerun this cell to enable.\n",
              "      </output>\n",
              "      <script>// Copyright 2017 Google LLC\n",
              "//\n",
              "// Licensed under the Apache License, Version 2.0 (the \"License\");\n",
              "// you may not use this file except in compliance with the License.\n",
              "// You may obtain a copy of the License at\n",
              "//\n",
              "//      http://www.apache.org/licenses/LICENSE-2.0\n",
              "//\n",
              "// Unless required by applicable law or agreed to in writing, software\n",
              "// distributed under the License is distributed on an \"AS IS\" BASIS,\n",
              "// WITHOUT WARRANTIES OR CONDITIONS OF ANY KIND, either express or implied.\n",
              "// See the License for the specific language governing permissions and\n",
              "// limitations under the License.\n",
              "\n",
              "/**\n",
              " * @fileoverview Helpers for google.colab Python module.\n",
              " */\n",
              "(function(scope) {\n",
              "function span(text, styleAttributes = {}) {\n",
              "  const element = document.createElement('span');\n",
              "  element.textContent = text;\n",
              "  for (const key of Object.keys(styleAttributes)) {\n",
              "    element.style[key] = styleAttributes[key];\n",
              "  }\n",
              "  return element;\n",
              "}\n",
              "\n",
              "// Max number of bytes which will be uploaded at a time.\n",
              "const MAX_PAYLOAD_SIZE = 100 * 1024;\n",
              "\n",
              "function _uploadFiles(inputId, outputId) {\n",
              "  const steps = uploadFilesStep(inputId, outputId);\n",
              "  const outputElement = document.getElementById(outputId);\n",
              "  // Cache steps on the outputElement to make it available for the next call\n",
              "  // to uploadFilesContinue from Python.\n",
              "  outputElement.steps = steps;\n",
              "\n",
              "  return _uploadFilesContinue(outputId);\n",
              "}\n",
              "\n",
              "// This is roughly an async generator (not supported in the browser yet),\n",
              "// where there are multiple asynchronous steps and the Python side is going\n",
              "// to poll for completion of each step.\n",
              "// This uses a Promise to block the python side on completion of each step,\n",
              "// then passes the result of the previous step as the input to the next step.\n",
              "function _uploadFilesContinue(outputId) {\n",
              "  const outputElement = document.getElementById(outputId);\n",
              "  const steps = outputElement.steps;\n",
              "\n",
              "  const next = steps.next(outputElement.lastPromiseValue);\n",
              "  return Promise.resolve(next.value.promise).then((value) => {\n",
              "    // Cache the last promise value to make it available to the next\n",
              "    // step of the generator.\n",
              "    outputElement.lastPromiseValue = value;\n",
              "    return next.value.response;\n",
              "  });\n",
              "}\n",
              "\n",
              "/**\n",
              " * Generator function which is called between each async step of the upload\n",
              " * process.\n",
              " * @param {string} inputId Element ID of the input file picker element.\n",
              " * @param {string} outputId Element ID of the output display.\n",
              " * @return {!Iterable<!Object>} Iterable of next steps.\n",
              " */\n",
              "function* uploadFilesStep(inputId, outputId) {\n",
              "  const inputElement = document.getElementById(inputId);\n",
              "  inputElement.disabled = false;\n",
              "\n",
              "  const outputElement = document.getElementById(outputId);\n",
              "  outputElement.innerHTML = '';\n",
              "\n",
              "  const pickedPromise = new Promise((resolve) => {\n",
              "    inputElement.addEventListener('change', (e) => {\n",
              "      resolve(e.target.files);\n",
              "    });\n",
              "  });\n",
              "\n",
              "  const cancel = document.createElement('button');\n",
              "  inputElement.parentElement.appendChild(cancel);\n",
              "  cancel.textContent = 'Cancel upload';\n",
              "  const cancelPromise = new Promise((resolve) => {\n",
              "    cancel.onclick = () => {\n",
              "      resolve(null);\n",
              "    };\n",
              "  });\n",
              "\n",
              "  // Wait for the user to pick the files.\n",
              "  const files = yield {\n",
              "    promise: Promise.race([pickedPromise, cancelPromise]),\n",
              "    response: {\n",
              "      action: 'starting',\n",
              "    }\n",
              "  };\n",
              "\n",
              "  cancel.remove();\n",
              "\n",
              "  // Disable the input element since further picks are not allowed.\n",
              "  inputElement.disabled = true;\n",
              "\n",
              "  if (!files) {\n",
              "    return {\n",
              "      response: {\n",
              "        action: 'complete',\n",
              "      }\n",
              "    };\n",
              "  }\n",
              "\n",
              "  for (const file of files) {\n",
              "    const li = document.createElement('li');\n",
              "    li.append(span(file.name, {fontWeight: 'bold'}));\n",
              "    li.append(span(\n",
              "        `(${file.type || 'n/a'}) - ${file.size} bytes, ` +\n",
              "        `last modified: ${\n",
              "            file.lastModifiedDate ? file.lastModifiedDate.toLocaleDateString() :\n",
              "                                    'n/a'} - `));\n",
              "    const percent = span('0% done');\n",
              "    li.appendChild(percent);\n",
              "\n",
              "    outputElement.appendChild(li);\n",
              "\n",
              "    const fileDataPromise = new Promise((resolve) => {\n",
              "      const reader = new FileReader();\n",
              "      reader.onload = (e) => {\n",
              "        resolve(e.target.result);\n",
              "      };\n",
              "      reader.readAsArrayBuffer(file);\n",
              "    });\n",
              "    // Wait for the data to be ready.\n",
              "    let fileData = yield {\n",
              "      promise: fileDataPromise,\n",
              "      response: {\n",
              "        action: 'continue',\n",
              "      }\n",
              "    };\n",
              "\n",
              "    // Use a chunked sending to avoid message size limits. See b/62115660.\n",
              "    let position = 0;\n",
              "    do {\n",
              "      const length = Math.min(fileData.byteLength - position, MAX_PAYLOAD_SIZE);\n",
              "      const chunk = new Uint8Array(fileData, position, length);\n",
              "      position += length;\n",
              "\n",
              "      const base64 = btoa(String.fromCharCode.apply(null, chunk));\n",
              "      yield {\n",
              "        response: {\n",
              "          action: 'append',\n",
              "          file: file.name,\n",
              "          data: base64,\n",
              "        },\n",
              "      };\n",
              "\n",
              "      let percentDone = fileData.byteLength === 0 ?\n",
              "          100 :\n",
              "          Math.round((position / fileData.byteLength) * 100);\n",
              "      percent.textContent = `${percentDone}% done`;\n",
              "\n",
              "    } while (position < fileData.byteLength);\n",
              "  }\n",
              "\n",
              "  // All done.\n",
              "  yield {\n",
              "    response: {\n",
              "      action: 'complete',\n",
              "    }\n",
              "  };\n",
              "}\n",
              "\n",
              "scope.google = scope.google || {};\n",
              "scope.google.colab = scope.google.colab || {};\n",
              "scope.google.colab._files = {\n",
              "  _uploadFiles,\n",
              "  _uploadFilesContinue,\n",
              "};\n",
              "})(self);\n",
              "</script> "
            ]
          },
          "metadata": {}
        },
        {
          "output_type": "stream",
          "name": "stdout",
          "text": [
            "Saving real-labels.csv to real-labels.csv\n"
          ]
        }
      ]
    },
    {
      "cell_type": "code",
      "source": [
        "modules = np.array(modules)\n",
        "module_li = modules.T[2]\n",
        "arr_numeric = np.array(module_li, dtype=float)\n",
        "module_list = np.where(np.isnan(arr_numeric), 18, arr_numeric)"
      ],
      "metadata": {
        "id": "FlSCFJYTp8px"
      },
      "execution_count": 40,
      "outputs": []
    },
    {
      "cell_type": "code",
      "source": [
        "#making the binarized network\n",
        "\n",
        "text_data = data.iloc[:, 1].astype(str)\n",
        "vectorizer = CountVectorizer()\n",
        "vectorized_text = vectorizer.fit_transform(text_data)\n",
        "\n",
        "cosine_similarity_matrix = cosine_similarity(vectorized_text)\n",
        "cosine_similarity_matrix1 = cosine_similarity(vectorized_text)-np.eye(np.shape(cosine_similarity_matrix)[0]) #deleteing self loops\n",
        "\n",
        "def binarizing(x, tr):\n",
        "  x_bin = np.where(x >= tr, 1, 0)\n",
        "  return x_bin\n",
        "\n",
        "mat = binarizing(cosine_similarity_matrix1, 0.02)\n"
      ],
      "metadata": {
        "id": "N23dw6UkdxBE"
      },
      "execution_count": 5,
      "outputs": []
    },
    {
      "cell_type": "markdown",
      "source": [
        "#Functions"
      ],
      "metadata": {
        "id": "yde527TodfiW"
      }
    },
    {
      "cell_type": "code",
      "source": [
        "#making the ensemble of partition with same resolution\n",
        "def get_partitions(W, gamma, B='modularity', rep=1):\n",
        "    partitions = []\n",
        "    modularity = []\n",
        "    for i in range(rep):\n",
        "        partition, q = bct.community_louvain(W, gamma=gamma, B=B)\n",
        "        partitions.append(partition)\n",
        "        modularity.append(q)\n",
        "    return partitions, modularity\n",
        "\n",
        "\n",
        "#finding the best(most similar to other) paritition in the ensemble\n",
        "def get_best_partition(partitions):\n",
        "\n",
        "  n = len(partitions)\n",
        "  sim_mat = np.zeros((n, n))\n",
        "  sim_array = np.zeros(n)\n",
        "\n",
        "  for i in range(n):\n",
        "    for j in range(n):\n",
        "      sim_mat[i][j] = normalized_mutual_info_score(partitions[i], partitions[j])\n",
        "    sim_array[i] = np.sum(sim_mat[i])\n",
        "  max_sim_arg = np.argmax(sim_array)\n",
        "  return partitions[max_sim_arg]"
      ],
      "metadata": {
        "id": "7So55TcFdjaF"
      },
      "execution_count": 35,
      "outputs": []
    },
    {
      "cell_type": "markdown",
      "source": [
        "#Finding the stable modules"
      ],
      "metadata": {
        "id": "ZE0WgPnBmPow"
      }
    },
    {
      "cell_type": "code",
      "source": [
        "#finding the instability for each modules\n",
        "rep = 30\n",
        "count = 0\n",
        "gamma = np.arange(0, 3, 0.1)\n",
        "stab = np.zeros(len(gamma))\n",
        "n_module = np.zeros(len(gamma))\n",
        "for k in gamma:\n",
        "  s = np.zeros((rep,rep))\n",
        "  nm = 0\n",
        "  partitions, q = get_partitions(mat, k,'negative_asym', rep=rep)\n",
        "  for i in range(rep):\n",
        "    nm = nm + len(set(partitions[i]))\n",
        "    for j in range(rep):\n",
        "      if normalized_mutual_info_score(partitions[i], partitions[j])>0.95:\n",
        "        s[i][j] = 1\n",
        "\n",
        "  stab[count] = (0.5*np.sum(s))/(rep*rep)\n",
        "  n_module[count] = nm/rep\n",
        "  count = count + 1\n",
        "\n",
        "print(n_module)\n",
        "plt.plot(gamma, 1/stab)\n",
        "plt.grid(True)\n",
        "plt.title('Instability vs. Gamma')\n",
        "plt.show()\n",
        "\n",
        "plt.plot(n_module, 1/stab)\n",
        "plt.grid(True)\n",
        "plt.title('Instability vs. Number of Modules')\n",
        "plt.show()"
      ],
      "metadata": {
        "colab": {
          "base_uri": "https://localhost:8080/",
          "height": 997
        },
        "id": "6kyu0vTKmT_u",
        "outputId": "ef5bb7f5-a326-4b46-fc65-b5e3f3c5c859"
      },
      "execution_count": 37,
      "outputs": [
        {
          "output_type": "stream",
          "name": "stdout",
          "text": [
            "[ 21.          21.          21.          21.          21.93333333\n",
            "  21.8         22.13333333  22.9         23.26666667  24.43333333\n",
            "  25.53333333  26.83333333  28.66666667  30.33333333  31.96666667\n",
            "  35.7         40.1         46.6         53.          59.73333333\n",
            "  67.96666667  77.43333333  90.26666667  99.06666667 111.86666667\n",
            " 122.         132.03333333 143.         153.53333333 162.36666667]\n"
          ]
        },
        {
          "output_type": "display_data",
          "data": {
            "text/plain": [
              "<Figure size 640x480 with 1 Axes>"
            ],
            "image/png": "[encoded data removed]"
          },
          "metadata": {}
        },
        {
          "output_type": "display_data",
          "data": {
            "text/plain": [
              "<Figure size 640x480 with 1 Axes>"
            ],
            "image/png": "[encoded data removed]"
          },
          "metadata": {}
        }
      ]
    },
    {
      "cell_type": "code",
      "source": [
        "#use one of the stable gamma for the modules\n",
        "partitions, q = get_partitions(mat, 1.3,'negative_asym', rep=100)\n",
        "partition = get_best_partition(partitions)\n",
        "\n",
        "node = np.arange(np.shape(mat)[0])\n",
        "plt.scatter(node, partition, s = 1)\n",
        "plt.xlabel('Node number')\n",
        "plt.ylabel('Module number')"
      ],
      "metadata": {
        "colab": {
          "base_uri": "https://localhost:8080/",
          "height": 467
        },
        "id": "ThW4IcWymY7y",
        "outputId": "70e950c1-460a-488d-cdd9-8709d84b68e5"
      },
      "execution_count": 38,
      "outputs": [
        {
          "output_type": "execute_result",
          "data": {
            "text/plain": [
              "Text(0, 0.5, 'Module number')"
            ]
          },
          "metadata": {},
          "execution_count": 38
        },
        {
          "output_type": "display_data",
          "data": {
            "text/plain": [
              "<Figure size 640x480 with 1 Axes>"
            ],
            "image/png": "[encoded data removed]"
          },
          "metadata": {}
        }
      ]
    },
    {
      "cell_type": "markdown",
      "source": [
        "#some other properties"
      ],
      "metadata": {
        "id": "XZt_diXqphM2"
      }
    },
    {
      "cell_type": "code",
      "source": [
        "from sklearn.metrics.cluster import normalized_mutual_info_score\n",
        "\n",
        "normalized_mutual_info_score(partition, module_list)"
      ],
      "metadata": {
        "colab": {
          "base_uri": "https://localhost:8080/"
        },
        "id": "3KFryWWSplJz",
        "outputId": "1deac008-cdb2-4a79-b4ff-ca106df2bd4b"
      },
      "execution_count": 41,
      "outputs": [
        {
          "output_type": "execute_result",
          "data": {
            "text/plain": [
              "0.14014110265732807"
            ]
          },
          "metadata": {},
          "execution_count": 41
        }
      ]
    },
    {
      "cell_type": "code",
      "source": [
        "g = nx.from_numpy_array(mat)\n",
        "cent = nx.eigenvector_centrality(g)\n",
        "n = len(set(partition))\n",
        "def sorting(Y):\n",
        "  sorted_cent = sorted(cent.items(), key=lambda x: x[1], reverse=True)\n",
        "  top= sorted_cent[:Y]\n",
        "  counter = np.zeros(n)\n",
        "  s = np.zeros(n)\n",
        "  for i in range(Y):\n",
        "    for k in range(n):\n",
        "      if partition[top[i][0]] == k:\n",
        "        counter[k] = counter[k] + 1\n",
        "  return counter\n",
        "\n",
        "node = np.linspace(1,n,n)\n",
        "plt.figure(figsize=(5, 4))\n",
        "len_modules = np.zeros(len(set(module_list)))\n",
        "\n",
        "y = 100\n",
        "plt.scatter(node, sorting(y), label = 'cent', s=50)\n",
        "plt.title('number of first 100 nodes with high centrality in each module')\n",
        "plt.xlabel('Module Number')\n",
        "plt.ylabel('number of nodes')\n",
        "plt.legend()\n",
        "plt.show()"
      ],
      "metadata": {
        "colab": {
          "base_uri": "https://localhost:8080/",
          "height": 410
        },
        "id": "CQ3h-2vMqDtc",
        "outputId": "fa1ff7e3-2940-41ed-8262-be14e91affe2"
      },
      "execution_count": 43,
      "outputs": [
        {
          "output_type": "display_data",
          "data": {
            "text/plain": [
              "<Figure size 500x400 with 1 Axes>"
            ],
            "image/png": "[encoded data removed]"
          },
          "metadata": {}
        }
      ]
    },
    {
      "cell_type": "code",
      "source": [
        "g = nx.from_numpy_array(mat)\n",
        "cent = nx.eigenvector_centrality(g)\n",
        "n = len(set(module_list))\n",
        "def sorting(Y):\n",
        "  sorted_cent = sorted(cent.items(), key=lambda x: x[1], reverse=True)\n",
        "  top= sorted_cent[:Y]\n",
        "  counter = np.zeros(n)\n",
        "  s = np.zeros(n)\n",
        "  for i in range(Y):\n",
        "    for k in range(n):\n",
        "      if module_list[top[i][0]] == k:\n",
        "        counter[k] = counter[k] + 1\n",
        "  return counter\n",
        "\n",
        "node = np.linspace(1,n,n)\n",
        "plt.figure(figsize=(5, 4))\n",
        "len_modules = np.zeros(len(set(module_list)))\n",
        "\n",
        "y = 100\n",
        "plt.scatter(node, sorting(y), label = 'cent', s=50)\n",
        "plt.title('number of first 100 nodes with high centrality in each module')\n",
        "plt.xlabel('Module Number')\n",
        "plt.ylabel('number of nodes')\n",
        "plt.legend()\n",
        "plt.show()"
      ],
      "metadata": {
        "colab": {
          "base_uri": "https://localhost:8080/",
          "height": 410
        },
        "id": "A0yg5yJJqbcE",
        "outputId": "2b9cafe4-e98a-4cf4-8288-ec8acbba4b16"
      },
      "execution_count": 45,
      "outputs": [
        {
          "output_type": "display_data",
          "data": {
            "text/plain": [
              "<Figure size 500x400 with 1 Axes>"
            ],
            "image/png": "[encoded data removed]"
          },
          "metadata": {}
        }
      ]
    },
    {
      "cell_type": "code",
      "source": [],
      "metadata": {
        "id": "hhRU4Od1qpGm"
      },
      "execution_count": null,
      "outputs": []
    }
  ]
}