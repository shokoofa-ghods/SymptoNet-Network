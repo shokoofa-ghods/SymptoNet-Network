{
 "cells": [
  {
   "cell_type": "code",
   "execution_count": 2,
   "metadata": {},
   "outputs": [],
   "source": [
    "from nltk.tokenize import word_tokenize\n",
    "from nltk.corpus import stopwords\n",
    "from nltk.stem import WordNetLemmatizer\n",
    "from nltk.stem import PorterStemmer\n",
    "lemmatizer = WordNetLemmatizer()\n",
    "stemmer = PorterStemmer()\n",
    "stopWords = stopwords.words('english')\n",
    "\n",
    "import os\n",
    "import re\n",
    "import csv\n",
    "import numpy as np\n",
    "import csv "
   ]
  },
  {
   "cell_type": "code",
   "execution_count": 3,
   "metadata": {},
   "outputs": [],
   "source": [
    "dict = {}\n",
    "unnew = []\n",
    "# file_names = [file for file in os.listdir() if file.split('.')[-1] == 'csv']\n",
    "file_names = ['conditions-symptoms-data1.csv']\n",
    "\n",
    "for file_name in file_names:\n",
    "    with open(file_name, 'r', encoding='utf-8') as f :\n",
    "        for row in csv.reader(f):\n",
    "            if (row):\n",
    "                if row[0] not in dict.keys():\n",
    "                    dict[row[0]] = row[1]\n",
    "                else:\n",
    "                    unnew.append(row[0])\n"
   ]
  },
  {
   "cell_type": "code",
   "execution_count": 5,
   "metadata": {},
   "outputs": [
    {
     "data": {
      "text/plain": [
       "937"
      ]
     },
     "execution_count": 5,
     "metadata": {},
     "output_type": "execute_result"
    }
   ],
   "source": [
    "len(dict)"
   ]
  },
  {
   "cell_type": "markdown",
   "metadata": {},
   "source": [
    "### Cleaning Diseases (Keys)"
   ]
  },
  {
   "cell_type": "code",
   "execution_count": 6,
   "metadata": {},
   "outputs": [],
   "source": [
    "final_keys = []\n",
    "\n",
    "for key in dict.keys():\n",
    "    key = key.lower()\n",
    "    key = re.sub('_', ' ', key)\n",
    "    cleaned_key = ''.join([char for char in key if char.isalpha() or char.isspace()])\n",
    "    words = word_tokenize(cleaned_key)\n",
    "    stemmed_words = [lemmatizer.lemmatize(word) for word in words]\n",
    "    final_keys.append(' '.join(w for w in stemmed_words))"
   ]
  },
  {
   "cell_type": "markdown",
   "metadata": {},
   "source": [
    "### Cleaning Symptoms (Itmes)"
   ]
  },
  {
   "cell_type": "code",
   "execution_count": 7,
   "metadata": {},
   "outputs": [],
   "source": [
    "final_vals = []\n",
    "\n",
    "for value in dict.values():\n",
    "    value = value.lower()\n",
    "    value = re.sub('\\n', '', value)\n",
    "    cleaned_val = ''.join([char for char in value if char.isalpha() or char.isspace()])\n",
    "    words = word_tokenize(cleaned_val)\n",
    "    stemmed_words = [lemmatizer.lemmatize(word) for word in words]\n",
    "    filtered_words = [w for w in stemmed_words if w not in stopWords]\n",
    "    final_vals.append(' '.join(w for w in filtered_words))"
   ]
  },
  {
   "cell_type": "code",
   "execution_count": 3,
   "metadata": {},
   "outputs": [
    {
     "data": {
      "text/plain": [
       "(('dizzi', 'dizzi'), ('dizziness', 'dizzy'))"
      ]
     },
     "execution_count": 3,
     "metadata": {},
     "output_type": "execute_result"
    }
   ],
   "source": [
    "# word1 = \"dizziness\"\n",
    "# word2 = \"dizzy\"\n",
    "\n",
    "# stem1 = stemmer.stem(word1)\n",
    "# stem2 = stemmer.stem(word2)\n",
    "\n",
    "# lemma1 = lemmatizer.lemmatize(word1, pos='a')\n",
    "# lemma2 = lemmatizer.lemmatize(word2)\n",
    "\n",
    "# (stem1, stem2), (lemma1, lemma2)"
   ]
  },
  {
   "cell_type": "code",
   "execution_count": 8,
   "metadata": {},
   "outputs": [
    {
     "name": "stdout",
     "output_type": "stream",
     "text": [
      "autoimmune polyendocrine syndrome type\n",
      "type diabetes\n"
     ]
    }
   ],
   "source": [
    "new_dict = {}\n",
    "for i,j in zip(final_keys,final_vals):\n",
    "    if i not in new_dict.keys():\n",
    "        new_dict[i] = j\n",
    "    else:\n",
    "        print(i)"
   ]
  },
  {
   "cell_type": "code",
   "execution_count": 9,
   "metadata": {},
   "outputs": [
    {
     "data": {
      "text/plain": [
       "935"
      ]
     },
     "execution_count": 9,
     "metadata": {},
     "output_type": "execute_result"
    }
   ],
   "source": [
    "len(new_dict) #number of nodes "
   ]
  },
  {
   "cell_type": "code",
   "execution_count": 10,
   "metadata": {},
   "outputs": [],
   "source": [
    "fname = 'preprocessed_data'\n",
    "with open(f'{fname}.csv', 'w', encoding='utf-8', newline='') as f:\n",
    "    wrtr = csv.writer(f)\n",
    "    for k,v in new_dict.items():\n",
    "        wrtr.writerow([k,v])"
   ]
  }
 ],
 "metadata": {
  "kernelspec": {
   "display_name": "Python 3",
   "language": "python",
   "name": "python3"
  },
  "language_info": {
   "codemirror_mode": {
    "name": "ipython",
    "version": 3
   },
   "file_extension": ".py",
   "mimetype": "text/x-python",
   "name": "python",
   "nbconvert_exporter": "python",
   "pygments_lexer": "ipython3",
   "version": "3.10.4"
  }
 },
 "nbformat": 4,
 "nbformat_minor": 2
}
